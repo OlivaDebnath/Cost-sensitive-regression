{
  "nbformat": 4,
  "nbformat_minor": 0,
  "metadata": {
    "colab": {
      "provenance": []
    },
    "kernelspec": {
      "name": "python3",
      "display_name": "Python 3"
    },
    "language_info": {
      "name": "python"
    }
  },
  "cells": [
    {
      "cell_type": "markdown",
      "source": [
        "#Including Libraries"
      ],
      "metadata": {
        "id": "H3M0Ocw4ADDY"
      }
    },
    {
      "cell_type": "code",
      "source": [
        "!pip install pyea\n",
        "!pip install joblib\n",
        "!pip install geneticalgorithm"
      ],
      "metadata": {
        "colab": {
          "base_uri": "https://localhost:8080/"
        },
        "id": "iw-OXveRZfp4",
        "outputId": "9e8fd920-42e5-45a3-9c87-50cdd6de94cb"
      },
      "execution_count": 4,
      "outputs": [
        {
          "output_type": "stream",
          "name": "stdout",
          "text": [
            "Looking in indexes: https://pypi.org/simple, https://us-python.pkg.dev/colab-wheels/public/simple/\n",
            "Requirement already satisfied: pyea in /usr/local/lib/python3.10/dist-packages (0.2)\n",
            "Requirement already satisfied: numpy>=1.8.0 in /usr/local/lib/python3.10/dist-packages (from pyea) (1.22.4)\n",
            "Requirement already satisfied: scikit-learn>=0.15.0b2 in /usr/local/lib/python3.10/dist-packages (from pyea) (1.2.2)\n",
            "Requirement already satisfied: pandas>=0.14.0 in /usr/local/lib/python3.10/dist-packages (from pyea) (1.5.3)\n",
            "Requirement already satisfied: pytz>=2020.1 in /usr/local/lib/python3.10/dist-packages (from pandas>=0.14.0->pyea) (2022.7.1)\n",
            "Requirement already satisfied: python-dateutil>=2.8.1 in /usr/local/lib/python3.10/dist-packages (from pandas>=0.14.0->pyea) (2.8.2)\n",
            "Requirement already satisfied: joblib>=1.1.1 in /usr/local/lib/python3.10/dist-packages (from scikit-learn>=0.15.0b2->pyea) (1.2.0)\n",
            "Requirement already satisfied: scipy>=1.3.2 in /usr/local/lib/python3.10/dist-packages (from scikit-learn>=0.15.0b2->pyea) (1.10.1)\n",
            "Requirement already satisfied: threadpoolctl>=2.0.0 in /usr/local/lib/python3.10/dist-packages (from scikit-learn>=0.15.0b2->pyea) (3.1.0)\n",
            "Requirement already satisfied: six>=1.5 in /usr/local/lib/python3.10/dist-packages (from python-dateutil>=2.8.1->pandas>=0.14.0->pyea) (1.16.0)\n",
            "Looking in indexes: https://pypi.org/simple, https://us-python.pkg.dev/colab-wheels/public/simple/\n",
            "Requirement already satisfied: joblib in /usr/local/lib/python3.10/dist-packages (1.2.0)\n",
            "Looking in indexes: https://pypi.org/simple, https://us-python.pkg.dev/colab-wheels/public/simple/\n",
            "Requirement already satisfied: geneticalgorithm in /usr/local/lib/python3.10/dist-packages (1.0.2)\n",
            "Requirement already satisfied: func-timeout in /usr/local/lib/python3.10/dist-packages (from geneticalgorithm) (4.3.5)\n",
            "Requirement already satisfied: numpy in /usr/local/lib/python3.10/dist-packages (from geneticalgorithm) (1.22.4)\n"
          ]
        }
      ]
    },
    {
      "cell_type": "markdown",
      "source": [
        "#Function Declaration"
      ],
      "metadata": {
        "id": "HnTgRn2e_-Po"
      }
    },
    {
      "cell_type": "code",
      "source": [
        "import sys\n",
        "import joblib\n",
        "sys.modules['sklearn.externals.joblib'] = joblib\n",
        "import numpy as np\n",
        "import pandas as pd\n",
        "from pyea import GeneticAlgorithmOptimizer\n",
        "from sklearn.linear_model import LogisticRegression\n",
        "from sklearn.model_selection import train_test_split\n",
        "from sklearn.preprocessing import StandardScaler\n",
        "from sklearn.metrics import log_loss\n",
        "from sklearn.utils import column_or_1d\n",
        "\n",
        "# Define the cost function\n",
        "def Dimension_alignment(A):\n",
        "   A = np.reshape(A, (A.shape[0], 1))\n",
        "   return A\n",
        "\n",
        "def Sigmoid(Z):\n",
        "  return 1 / (1 + np.exp(-Z))\n",
        "\n",
        "def Dot_prod(A,B):\n",
        "  return np.dot(A,B)\n",
        "\n",
        "def cost_func(theta, X, Y, FN, alpha):\n",
        "    TP, FP, TN = 4, 4, 0\n",
        "    weight=np.zeros(theta.shape[0])\n",
        "    for i in range(theta.shape[0]):\n",
        "        w_i=theta[i]\n",
        "        Z = Dot_prod(X, w_i)\n",
        "        # Clip the values of Z to a range of [-500, 500]\n",
        "        Z_clipped = np.clip(Z, -500, 500)\n",
        "        Y_pred = Sigmoid(Z_clipped)\n",
        "        mat_cost = cost_sens_loss(Y, Y_pred, FN)\n",
        "        weight[i] = mat_cost\n",
        "    return weight\n",
        "\n",
        "def savings(clr,ccs):\n",
        "  ans = (clr-ccs)/clr\n",
        "  return ans\n",
        "\n",
        "def predict(theta, X):\n",
        "    Mat_Mul=Dot_prod(X,theta)\n",
        "    pred =Sigmoid(Mat_Mul)\n",
        "    pred = (pred >= 0.5).astype(int)\n",
        "    return pred\n",
        "\n",
        "def cost_sens_loss(Y, Y_pred, FN):\n",
        "   \n",
        "    Y =Dimension_alignment(Y)\n",
        "    Y_pred = Dimension_alignment(Y_pred)\n",
        "    FN = Dimension_alignment(FN)\n",
        "    cost=loss_calc(Y,Y_pred,FN)\n",
        "    return cost \n",
        "\n",
        "def loss_calc(Y,Y_pred,FN):\n",
        "  TP, FP, TN = 4, 4, 0\n",
        "  part1 = Y*(Y_pred * TP + (1 - Y_pred) * FN)\n",
        "  part2 = (1 - Y) * (Y_pred * FP + (1 - Y_pred) * TN)\n",
        "  mat_cost= part1 + part2\n",
        "  cost = np.sum(mat_cost) / X.shape[0]\n",
        "  return cost\n",
        "\n"
      ],
      "metadata": {
        "id": "BkJ_HfkubJll"
      },
      "execution_count": 14,
      "outputs": []
    },
    {
      "cell_type": "markdown",
      "source": [
        "#Logistic Regression"
      ],
      "metadata": {
        "id": "zdNy5S4Y5-B0"
      }
    },
    {
      "cell_type": "code",
      "source": [
        "# Load data\n",
        "data = pd.read_csv('costsensitiveregression.csv')\n",
        "\n",
        "# Separate input and output variables\n",
        "X = data.iloc[:, :-2].values\n",
        "Y = data.iloc[:, -2].values\n",
        "False_negative = data.iloc[:, -1].values\n",
        "\n",
        "# Split data into train and test sets\n",
        "np.random.seed(33)\n",
        "X_train, X_test, Y_train, Y_test, FN_train, FN_test = train_test_split(X, Y, False_negative, test_size=0.2, random_state=42)\n",
        "\n",
        "# Train logistic regression model\n",
        "logisticRegression = LogisticRegression(max_iter=1000)\n",
        "logisticRegression.fit(X_train, Y_train)\n",
        "Y_pred_lr = logisticRegression.predict(X_test)\n",
        "loss_lr = log_loss(Y_test, Y_pred_lr)\n",
        "print(\"Logistic Loss: \", loss_lr)\n",
        "\n"
      ],
      "metadata": {
        "colab": {
          "base_uri": "https://localhost:8080/"
        },
        "id": "pHfNXA0ccC4F",
        "outputId": "0a60156b-6a2b-4a3f-c917-81a196f4d9e0"
      },
      "execution_count": 15,
      "outputs": [
        {
          "output_type": "stream",
          "name": "stdout",
          "text": [
            "Logistic Loss:  4.825269637197918\n"
          ]
        }
      ]
    },
    {
      "cell_type": "markdown",
      "source": [
        "#Cost Sensitive Logistic Regression using pyea library"
      ],
      "metadata": {
        "id": "KbLV48nM6aq1"
      }
    },
    {
      "cell_type": "code",
      "source": [
        "# Use Genetic Algorithm to train Cost Sensitive Logistic Regression model\n",
        "theta = np.zeros(X_train.shape[1])\n",
        "# Set up genetic algorithm optimizer\n",
        "optimizer = GeneticAlgorithmOptimizer(cost_func,\n",
        "                                      theta.shape[0],\n",
        "                                      iters=100,\n",
        "                                      type_='cont',\n",
        "                                      n_chromosomes=100,\n",
        "                                      per_mutations=0.25,\n",
        "                                      n_elite=10,\n",
        "                                      fargs=(X_train, Y_train, FN_train, 1.0),\n",
        "                                      range_=(-5, 5),\n",
        "                                      n_jobs=1,\n",
        "                                      verbose=0)\n",
        "\n",
        "# Run the optimizer\n",
        "optimizer.fit()\n",
        "theta = optimizer.x\n",
        "\n",
        "# Predict using Cost Sensitive Logistic Regression model\n",
        "Y_pred_Cslr = predict(theta, X_test)\n",
        "loss_cs = cost_sens_loss(Y_test, Y_pred_Cslr, FN_test)\n",
        "print(\"Cost Sensitive Logistic Loss(from pyea lib): \", loss_cs)\n",
        "\n",
        "# Calculate savings\n",
        "save_cslr=savings(loss_lr, loss_cs)\n",
        "print(\"Cost senstive savings \",save_cslr)"
      ],
      "metadata": {
        "colab": {
          "base_uri": "https://localhost:8080/"
        },
        "id": "N30viJuHcIga",
        "outputId": "78a61c63-7a13-4314-c60a-e5bbc57a0044"
      },
      "execution_count": 16,
      "outputs": [
        {
          "output_type": "stream",
          "name": "stdout",
          "text": [
            "Cost Sensitive Logistic Loss(from pyea lib):  0.5090155163307053\n",
            "Cost senstive savings  0.8945104513110079\n"
          ]
        }
      ]
    },
    {
      "cell_type": "markdown",
      "source": [
        "# Alternative Approach using geneticalgorithm library"
      ],
      "metadata": {
        "id": "fzBI-09n5rPg"
      }
    },
    {
      "cell_type": "code",
      "source": [
        "from geneticalgorithm import geneticalgorithm as ga\n",
        "\n",
        "# Define the cost function\n",
        "def cost_func(theta):\n",
        "    y_pred = 1 / (1 + np.exp(-(X @ theta)))\n",
        "    cost = np.mean(y_true * (y_pred * 4 + (1 - y_pred) * FN) + (1 - y_true) * (y_pred * 4 + (1 - y_pred) * 0))\n",
        "    return cost\n",
        "def predict(theta,X):\n",
        "    y_pred = 1 / (1 + np.exp(-(X @ theta)))\n",
        "    y_pred = np.where(y_pred >= 0.5, 1, 0)\n",
        "    return y_pred\n",
        "\n",
        "# Load data\n",
        "data = pd.read_csv('costsensitiveregression.csv')\n",
        "\n",
        "# Separate input and output variables\n",
        "X = data.iloc[:, :-2].values\n",
        "y_true = data.iloc[:, -2].values\n",
        "FN = data.iloc[:, -1].values\n",
        "\n",
        "# Define bounds for the parameters\n",
        "bounds = np.zeros((X.shape[1], 2))\n",
        "bounds[:, 1] = 1\n",
        "\n",
        "# Run genetic algorithm to minimize the cost function\n",
        "model = ga(function=cost_func, dimension=X.shape[1], variable_type='real', variable_boundaries=bounds)\n",
        "model.run()\n",
        "theta=model.best_variable\n",
        "y_pred=predict(theta,X_test)\n"
      ],
      "metadata": {
        "colab": {
          "base_uri": "https://localhost:8080/",
          "height": 593
        },
        "id": "f4VJCwC8ghvh",
        "outputId": "6b91a8df-44a1-4c99-cb10-57edd179a2bb"
      },
      "execution_count": 19,
      "outputs": [
        {
          "output_type": "stream",
          "name": "stdout",
          "text": [
            " The best solution found:\n",
            " [6.61976846e-01 6.06303531e-05 9.93361464e-01 9.18855518e-01\n",
            " 6.31168167e-01 8.46054819e-01 2.55951535e-01 8.89184965e-01\n",
            " 4.86178343e-05 9.83780006e-01 9.42057656e-01]\n",
            "\n",
            " Objective function:\n",
            " 3.7713623789398696\n"
          ]
        },
        {
          "output_type": "display_data",
          "data": {
            "text/plain": [
              "<Figure size 640x480 with 1 Axes>"
            ],
            "image/png": "[encoded data removed]"
          },
          "metadata": {}
        }
      ]
    },
    {
      "cell_type": "code",
      "source": [
        "# Print the results\n",
        "print(\"Cost Sensitive Logistic Loss(from geneticalgorithm): \", model.best_function)\n",
        "save=savings(loss_lr,model.best_function)\n",
        "print(\"Saving score \",save)"
      ],
      "metadata": {
        "colab": {
          "base_uri": "https://localhost:8080/"
        },
        "id": "D5fGnykk-Tlj",
        "outputId": "250ed08c-5cda-41f4-9893-c76cdd01a397"
      },
      "execution_count": 18,
      "outputs": [
        {
          "output_type": "stream",
          "name": "stdout",
          "text": [
            "Cost Sensitive Logistic Loss(from geneticalgorithm):  3.7773165963682795\n",
            "Saving score  0.2171802033094663\n"
          ]
        }
      ]
    }
  ]
}